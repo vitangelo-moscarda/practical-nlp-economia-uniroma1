{
 "cells": [
  {
   "cell_type": "markdown",
   "id": "63679e75",
   "metadata": {},
   "source": [
    "# As first we upload our Kaggle dataset\n",
    "\n",
    "https://www.kaggle.com/competitions/learn-ai-bbc/data"
   ]
  },
  {
   "cell_type": "code",
   "execution_count": 5,
   "id": "63febf77",
   "metadata": {},
   "outputs": [],
   "source": [
    "import pandas as pd\n",
    "\n",
    "df = pd.read_csv(\"bbc-news-data.csv\", sep='\\t')\n",
    "business = df[df.category=='business']"
   ]
  },
  {
   "cell_type": "code",
   "execution_count": 6,
   "id": "8ed1f8ee",
   "metadata": {},
   "outputs": [
    {
     "data": {
      "text/html": [
       "<div>\n",
       "<style scoped>\n",
       "    .dataframe tbody tr th:only-of-type {\n",
       "        vertical-align: middle;\n",
       "    }\n",
       "\n",
       "    .dataframe tbody tr th {\n",
       "        vertical-align: top;\n",
       "    }\n",
       "\n",
       "    .dataframe thead th {\n",
       "        text-align: right;\n",
       "    }\n",
       "</style>\n",
       "<table border=\"1\" class=\"dataframe\">\n",
       "  <thead>\n",
       "    <tr style=\"text-align: right;\">\n",
       "      <th></th>\n",
       "      <th>category</th>\n",
       "      <th>filename</th>\n",
       "      <th>title</th>\n",
       "      <th>content</th>\n",
       "    </tr>\n",
       "  </thead>\n",
       "  <tbody>\n",
       "    <tr>\n",
       "      <th>0</th>\n",
       "      <td>business</td>\n",
       "      <td>001.txt</td>\n",
       "      <td>Ad sales boost Time Warner profit</td>\n",
       "      <td>Quarterly profits at US media giant TimeWarne...</td>\n",
       "    </tr>\n",
       "    <tr>\n",
       "      <th>1</th>\n",
       "      <td>business</td>\n",
       "      <td>002.txt</td>\n",
       "      <td>Dollar gains on Greenspan speech</td>\n",
       "      <td>The dollar has hit its highest level against ...</td>\n",
       "    </tr>\n",
       "    <tr>\n",
       "      <th>2</th>\n",
       "      <td>business</td>\n",
       "      <td>003.txt</td>\n",
       "      <td>Yukos unit buyer faces loan claim</td>\n",
       "      <td>The owners of embattled Russian oil giant Yuk...</td>\n",
       "    </tr>\n",
       "    <tr>\n",
       "      <th>3</th>\n",
       "      <td>business</td>\n",
       "      <td>004.txt</td>\n",
       "      <td>High fuel prices hit BA's profits</td>\n",
       "      <td>British Airways has blamed high fuel prices f...</td>\n",
       "    </tr>\n",
       "    <tr>\n",
       "      <th>4</th>\n",
       "      <td>business</td>\n",
       "      <td>005.txt</td>\n",
       "      <td>Pernod takeover talk lifts Domecq</td>\n",
       "      <td>Shares in UK drinks and food firm Allied Dome...</td>\n",
       "    </tr>\n",
       "    <tr>\n",
       "      <th>...</th>\n",
       "      <td>...</td>\n",
       "      <td>...</td>\n",
       "      <td>...</td>\n",
       "      <td>...</td>\n",
       "    </tr>\n",
       "    <tr>\n",
       "      <th>505</th>\n",
       "      <td>business</td>\n",
       "      <td>506.txt</td>\n",
       "      <td>Trial begins of Spain's top banker</td>\n",
       "      <td>The trial of Emilio Botin, the chairman of Sp...</td>\n",
       "    </tr>\n",
       "    <tr>\n",
       "      <th>506</th>\n",
       "      <td>business</td>\n",
       "      <td>507.txt</td>\n",
       "      <td>UK economy ends year with spurt</td>\n",
       "      <td>The UK economy grew by an estimated 3.1% in 2...</td>\n",
       "    </tr>\n",
       "    <tr>\n",
       "      <th>507</th>\n",
       "      <td>business</td>\n",
       "      <td>508.txt</td>\n",
       "      <td>HealthSouth ex-boss goes on trial</td>\n",
       "      <td>The former head of US medical services firm H...</td>\n",
       "    </tr>\n",
       "    <tr>\n",
       "      <th>508</th>\n",
       "      <td>business</td>\n",
       "      <td>509.txt</td>\n",
       "      <td>Euro firms miss out on optimism</td>\n",
       "      <td>More than 90% of large companies around the w...</td>\n",
       "    </tr>\n",
       "    <tr>\n",
       "      <th>509</th>\n",
       "      <td>business</td>\n",
       "      <td>510.txt</td>\n",
       "      <td>Lacroix label bought by US firm</td>\n",
       "      <td>Luxury goods group LVMH has sold its loss-mak...</td>\n",
       "    </tr>\n",
       "  </tbody>\n",
       "</table>\n",
       "<p>510 rows × 4 columns</p>\n",
       "</div>"
      ],
      "text/plain": [
       "     category filename                               title  \\\n",
       "0    business  001.txt   Ad sales boost Time Warner profit   \n",
       "1    business  002.txt    Dollar gains on Greenspan speech   \n",
       "2    business  003.txt   Yukos unit buyer faces loan claim   \n",
       "3    business  004.txt   High fuel prices hit BA's profits   \n",
       "4    business  005.txt   Pernod takeover talk lifts Domecq   \n",
       "..        ...      ...                                 ...   \n",
       "505  business  506.txt  Trial begins of Spain's top banker   \n",
       "506  business  507.txt     UK economy ends year with spurt   \n",
       "507  business  508.txt   HealthSouth ex-boss goes on trial   \n",
       "508  business  509.txt     Euro firms miss out on optimism   \n",
       "509  business  510.txt     Lacroix label bought by US firm   \n",
       "\n",
       "                                               content  \n",
       "0     Quarterly profits at US media giant TimeWarne...  \n",
       "1     The dollar has hit its highest level against ...  \n",
       "2     The owners of embattled Russian oil giant Yuk...  \n",
       "3     British Airways has blamed high fuel prices f...  \n",
       "4     Shares in UK drinks and food firm Allied Dome...  \n",
       "..                                                 ...  \n",
       "505   The trial of Emilio Botin, the chairman of Sp...  \n",
       "506   The UK economy grew by an estimated 3.1% in 2...  \n",
       "507   The former head of US medical services firm H...  \n",
       "508   More than 90% of large companies around the w...  \n",
       "509   Luxury goods group LVMH has sold its loss-mak...  \n",
       "\n",
       "[510 rows x 4 columns]"
      ]
     },
     "execution_count": 6,
     "metadata": {},
     "output_type": "execute_result"
    }
   ],
   "source": [
    "business"
   ]
  },
  {
   "cell_type": "markdown",
   "id": "2a5689bd",
   "metadata": {},
   "source": [
    "# Let's use Spacy for Named Entity Recognition\n",
    "https://spacy.io/models/en"
   ]
  },
  {
   "cell_type": "code",
   "execution_count": 7,
   "id": "4100c877",
   "metadata": {},
   "outputs": [
    {
     "name": "stdout",
     "output_type": "stream",
     "text": [
      "WorldCom 8 16 ORG\n",
      "Bernie Ebbers 23 36 PERSON\n",
      "Ebbers 141 147 PERSON\n",
      "Scott Sullivan 209 223 PERSON\n",
      "Sullivan 268 276 PERSON\n",
      "Ebbers 398 404 PERSON\n",
      "his second day 456 470 DATE\n",
      "New York 493 501 GPE\n",
      "Ebbers 511 517 PERSON\n",
      "Sullivan 563 571 PERSON\n",
      "a lot of weeks 674 688 DATE\n",
      "three 709 714 CARDINAL\n",
      "Ebbers 734 740 PERSON\n",
      "Ebbers 874 880 PERSON\n",
      "Sullivan 900 908 PERSON\n",
      "2002 1001 1005 DATE\n",
      "$11bn accounting 1036 1052 MONEY\n",
      "Sullivan 1097 1105 PERSON\n",
      "one 1107 1110 CARDINAL\n",
      "six 1114 1117 CARDINAL\n",
      "WorldCom 1118 1126 ORG\n",
      "Sullivan 1311 1319 PERSON\n",
      "Ebbers 1369 1375 PERSON\n",
      "WorldCom 1408 1416 ORG\n",
      "Tuesday 1518 1525 DATE\n",
      "Ebbers 1529 1535 PERSON\n",
      "Scott Sullivan 1581 1595 PERSON\n",
      "today 1733 1738 DATE\n",
      "Ebbers 1744 1750 PERSON\n",
      "up to 85 years 1781 1795 DATE\n",
      "about $180bn 1860 1872 MONEY\n",
      "WorldCom 1876 1884 ORG\n",
      "20,000 1897 1903 CARDINAL\n",
      "last year 1995 2004 DATE\n",
      "MCI 2025 2028 ORG\n"
     ]
    }
   ],
   "source": [
    "import spacy\n",
    "import spacy.displacy as displacy\n",
    "\n",
    "nlp = spacy.load(\"en_core_web_trf\")\n",
    "\n",
    "doc = nlp(business.content[99])\n",
    "\n",
    "for ent in doc.ents:\n",
    "    print(ent.text, ent.start_char, ent.end_char, ent.label_)"
   ]
  },
  {
   "cell_type": "markdown",
   "id": "926b3fb4",
   "metadata": {},
   "source": [
    "### Resources: \n",
    "\n",
    "* https://www.kaggle.com/competitions/learn-ai-bbc/data\n",
    "* https://spacy.io/models/en\n",
    "* https://huggingface.co/ProsusAI/finbert"
   ]
  },
  {
   "cell_type": "code",
   "execution_count": 8,
   "id": "96c30f14",
   "metadata": {},
   "outputs": [
    {
     "name": "stderr",
     "output_type": "stream",
     "text": [
      "C:\\Users\\F.Bonora\\Anaconda3\\envs\\test\\lib\\site-packages\\spacy\\displacy\\__init__.py:108: UserWarning: [W011] It looks like you're calling displacy.serve from within a Jupyter notebook or a similar environment. This likely means you're already running a local web server, so there's no need to make displaCy start another one. Instead, you should be able to replace displacy.serve with displacy.render to show the visualization.\n",
      "  warnings.warn(Warnings.W011)\n"
     ]
    },
    {
     "data": {
      "text/html": [
       "<span class=\"tex2jax_ignore\"><!DOCTYPE html>\n",
       "<html lang=\"en\">\n",
       "    <head>\n",
       "        <title>displaCy</title>\n",
       "    </head>\n",
       "\n",
       "    <body style=\"font-size: 16px; font-family: -apple-system, BlinkMacSystemFont, 'Segoe UI', Helvetica, Arial, sans-serif, 'Apple Color Emoji', 'Segoe UI Emoji', 'Segoe UI Symbol'; padding: 4rem 2rem; direction: ltr\">\n",
       "<figure style=\"margin-bottom: 6rem\">\n",
       "<div class=\"entities\" style=\"line-height: 2.5; direction: ltr\"> Former \n",
       "<mark class=\"entity\" style=\"background: #7aecec; padding: 0.45em 0.6em; margin: 0 0.25em; line-height: 1; border-radius: 0.35em;\">\n",
       "    WorldCom\n",
       "    <span style=\"font-size: 0.8em; font-weight: bold; line-height: 1; border-radius: 0.35em; vertical-align: middle; margin-left: 0.5rem\">ORG</span>\n",
       "</mark>\n",
       " chief \n",
       "<mark class=\"entity\" style=\"background: #aa9cfc; padding: 0.45em 0.6em; margin: 0 0.25em; line-height: 1; border-radius: 0.35em;\">\n",
       "    Bernie Ebbers\n",
       "    <span style=\"font-size: 0.8em; font-weight: bold; line-height: 1; border-radius: 0.35em; vertical-align: middle; margin-left: 0.5rem\">PERSON</span>\n",
       "</mark>\n",
       " has denied claims that he knew accountants were doctoring the books at the firm.  Speaking in court, Mr \n",
       "<mark class=\"entity\" style=\"background: #aa9cfc; padding: 0.45em 0.6em; margin: 0 0.25em; line-height: 1; border-radius: 0.35em;\">\n",
       "    Ebbers\n",
       "    <span style=\"font-size: 0.8em; font-weight: bold; line-height: 1; border-radius: 0.35em; vertical-align: middle; margin-left: 0.5rem\">PERSON</span>\n",
       "</mark>\n",
       " rejected allegations he pressured ex-chief financial officer \n",
       "<mark class=\"entity\" style=\"background: #aa9cfc; padding: 0.45em 0.6em; margin: 0 0.25em; line-height: 1; border-radius: 0.35em;\">\n",
       "    Scott Sullivan\n",
       "    <span style=\"font-size: 0.8em; font-weight: bold; line-height: 1; border-radius: 0.35em; vertical-align: middle; margin-left: 0.5rem\">PERSON</span>\n",
       "</mark>\n",
       " to falsify company financial statements. Mr \n",
       "<mark class=\"entity\" style=\"background: #aa9cfc; padding: 0.45em 0.6em; margin: 0 0.25em; line-height: 1; border-radius: 0.35em;\">\n",
       "    Sullivan\n",
       "    <span style=\"font-size: 0.8em; font-weight: bold; line-height: 1; border-radius: 0.35em; vertical-align: middle; margin-left: 0.5rem\">PERSON</span>\n",
       "</mark>\n",
       " &quot;made accounting decisions,&quot; he told the federal court, saying his finance chief had &quot;a keen command of the numbers&quot;. Mr \n",
       "<mark class=\"entity\" style=\"background: #aa9cfc; padding: 0.45em 0.6em; margin: 0 0.25em; line-height: 1; border-radius: 0.35em;\">\n",
       "    Ebbers\n",
       "    <span style=\"font-size: 0.8em; font-weight: bold; line-height: 1; border-radius: 0.35em; vertical-align: middle; margin-left: 0.5rem\">PERSON</span>\n",
       "</mark>\n",
       " has denied charges of fraud and conspiracy. During \n",
       "<mark class=\"entity\" style=\"background: #bfe1d9; padding: 0.45em 0.6em; margin: 0 0.25em; line-height: 1; border-radius: 0.35em;\">\n",
       "    his second day\n",
       "    <span style=\"font-size: 0.8em; font-weight: bold; line-height: 1; border-radius: 0.35em; vertical-align: middle; margin-left: 0.5rem\">DATE</span>\n",
       "</mark>\n",
       " of questioning in the \n",
       "<mark class=\"entity\" style=\"background: #feca74; padding: 0.45em 0.6em; margin: 0 0.25em; line-height: 1; border-radius: 0.35em;\">\n",
       "    New York\n",
       "    <span style=\"font-size: 0.8em; font-weight: bold; line-height: 1; border-radius: 0.35em; vertical-align: middle; margin-left: 0.5rem\">GPE</span>\n",
       "</mark>\n",
       " trial Mr \n",
       "<mark class=\"entity\" style=\"background: #aa9cfc; padding: 0.45em 0.6em; margin: 0 0.25em; line-height: 1; border-radius: 0.35em;\">\n",
       "    Ebbers\n",
       "    <span style=\"font-size: 0.8em; font-weight: bold; line-height: 1; border-radius: 0.35em; vertical-align: middle; margin-left: 0.5rem\">PERSON</span>\n",
       "</mark>\n",
       " played down his working relationship with Mr \n",
       "<mark class=\"entity\" style=\"background: #aa9cfc; padding: 0.45em 0.6em; margin: 0 0.25em; line-height: 1; border-radius: 0.35em;\">\n",
       "    Sullivan\n",
       "    <span style=\"font-size: 0.8em; font-weight: bold; line-height: 1; border-radius: 0.35em; vertical-align: middle; margin-left: 0.5rem\">PERSON</span>\n",
       "</mark>\n",
       " and denied he frequently met him to discuss company business when questioned by the prosecution.  &quot;In \n",
       "<mark class=\"entity\" style=\"background: #bfe1d9; padding: 0.45em 0.6em; margin: 0 0.25em; line-height: 1; border-radius: 0.35em;\">\n",
       "    a lot of weeks\n",
       "    <span style=\"font-size: 0.8em; font-weight: bold; line-height: 1; border-radius: 0.35em; vertical-align: middle; margin-left: 0.5rem\">DATE</span>\n",
       "</mark>\n",
       ", we would speak ... \n",
       "<mark class=\"entity\" style=\"background: #e4e7d2; padding: 0.45em 0.6em; margin: 0 0.25em; line-height: 1; border-radius: 0.35em;\">\n",
       "    three\n",
       "    <span style=\"font-size: 0.8em; font-weight: bold; line-height: 1; border-radius: 0.35em; vertical-align: middle; margin-left: 0.5rem\">CARDINAL</span>\n",
       "</mark>\n",
       " or four times,&quot; Mr \n",
       "<mark class=\"entity\" style=\"background: #aa9cfc; padding: 0.45em 0.6em; margin: 0 0.25em; line-height: 1; border-radius: 0.35em;\">\n",
       "    Ebbers\n",
       "    <span style=\"font-size: 0.8em; font-weight: bold; line-height: 1; border-radius: 0.35em; vertical-align: middle; margin-left: 0.5rem\">PERSON</span>\n",
       "</mark>\n",
       " said, adding that conversations about finances were rarely one-on-one and were usually discussed by a &quot;group of people&quot; instead.  Mr \n",
       "<mark class=\"entity\" style=\"background: #aa9cfc; padding: 0.45em 0.6em; margin: 0 0.25em; line-height: 1; border-radius: 0.35em;\">\n",
       "    Ebbers\n",
       "    <span style=\"font-size: 0.8em; font-weight: bold; line-height: 1; border-radius: 0.35em; vertical-align: middle; margin-left: 0.5rem\">PERSON</span>\n",
       "</mark>\n",
       " relationship to Mr \n",
       "<mark class=\"entity\" style=\"background: #aa9cfc; padding: 0.45em 0.6em; margin: 0 0.25em; line-height: 1; border-radius: 0.35em;\">\n",
       "    Sullivan\n",
       "    <span style=\"font-size: 0.8em; font-weight: bold; line-height: 1; border-radius: 0.35em; vertical-align: middle; margin-left: 0.5rem\">PERSON</span>\n",
       "</mark>\n",
       " is key to the case surrounding financial corruption that led to the collapse of the firm in \n",
       "<mark class=\"entity\" style=\"background: #bfe1d9; padding: 0.45em 0.6em; margin: 0 0.25em; line-height: 1; border-radius: 0.35em;\">\n",
       "    2002\n",
       "    <span style=\"font-size: 0.8em; font-weight: bold; line-height: 1; border-radius: 0.35em; vertical-align: middle; margin-left: 0.5rem\">DATE</span>\n",
       "</mark>\n",
       " following the discovery of an \n",
       "<mark class=\"entity\" style=\"background: #e4e7d2; padding: 0.45em 0.6em; margin: 0 0.25em; line-height: 1; border-radius: 0.35em;\">\n",
       "    $11bn accounting\n",
       "    <span style=\"font-size: 0.8em; font-weight: bold; line-height: 1; border-radius: 0.35em; vertical-align: middle; margin-left: 0.5rem\">MONEY</span>\n",
       "</mark>\n",
       " fraud. The prosecution's star witness is Mr \n",
       "<mark class=\"entity\" style=\"background: #aa9cfc; padding: 0.45em 0.6em; margin: 0 0.25em; line-height: 1; border-radius: 0.35em;\">\n",
       "    Sullivan\n",
       "    <span style=\"font-size: 0.8em; font-weight: bold; line-height: 1; border-radius: 0.35em; vertical-align: middle; margin-left: 0.5rem\">PERSON</span>\n",
       "</mark>\n",
       ", \n",
       "<mark class=\"entity\" style=\"background: #e4e7d2; padding: 0.45em 0.6em; margin: 0 0.25em; line-height: 1; border-radius: 0.35em;\">\n",
       "    one\n",
       "    <span style=\"font-size: 0.8em; font-weight: bold; line-height: 1; border-radius: 0.35em; vertical-align: middle; margin-left: 0.5rem\">CARDINAL</span>\n",
       "</mark>\n",
       " of \n",
       "<mark class=\"entity\" style=\"background: #e4e7d2; padding: 0.45em 0.6em; margin: 0 0.25em; line-height: 1; border-radius: 0.35em;\">\n",
       "    six\n",
       "    <span style=\"font-size: 0.8em; font-weight: bold; line-height: 1; border-radius: 0.35em; vertical-align: middle; margin-left: 0.5rem\">CARDINAL</span>\n",
       "</mark>\n",
       " \n",
       "<mark class=\"entity\" style=\"background: #7aecec; padding: 0.45em 0.6em; margin: 0 0.25em; line-height: 1; border-radius: 0.35em;\">\n",
       "    WorldCom\n",
       "    <span style=\"font-size: 0.8em; font-weight: bold; line-height: 1; border-radius: 0.35em; vertical-align: middle; margin-left: 0.5rem\">ORG</span>\n",
       "</mark>\n",
       " executives indicted in the case, He has pleaded guilty to fraud and appeared as a prosecution witness as part of an agreement with prosecutors. During his time on the witness stand Mr \n",
       "<mark class=\"entity\" style=\"background: #aa9cfc; padding: 0.45em 0.6em; margin: 0 0.25em; line-height: 1; border-radius: 0.35em;\">\n",
       "    Sullivan\n",
       "    <span style=\"font-size: 0.8em; font-weight: bold; line-height: 1; border-radius: 0.35em; vertical-align: middle; margin-left: 0.5rem\">PERSON</span>\n",
       "</mark>\n",
       " repeatedly told jurors he met frequently with Mr \n",
       "<mark class=\"entity\" style=\"background: #aa9cfc; padding: 0.45em 0.6em; margin: 0 0.25em; line-height: 1; border-radius: 0.35em;\">\n",
       "    Ebbers\n",
       "    <span style=\"font-size: 0.8em; font-weight: bold; line-height: 1; border-radius: 0.35em; vertical-align: middle; margin-left: 0.5rem\">PERSON</span>\n",
       "</mark>\n",
       ", told him about changes made to \n",
       "<mark class=\"entity\" style=\"background: #7aecec; padding: 0.45em 0.6em; margin: 0 0.25em; line-height: 1; border-radius: 0.35em;\">\n",
       "    WorldCom\n",
       "    <span style=\"font-size: 0.8em; font-weight: bold; line-height: 1; border-radius: 0.35em; vertical-align: middle; margin-left: 0.5rem\">ORG</span>\n",
       "</mark>\n",
       "'s accounts to hide costs and had warned him such practises were improper. However during the case on \n",
       "<mark class=\"entity\" style=\"background: #bfe1d9; padding: 0.45em 0.6em; margin: 0 0.25em; line-height: 1; border-radius: 0.35em;\">\n",
       "    Tuesday\n",
       "    <span style=\"font-size: 0.8em; font-weight: bold; line-height: 1; border-radius: 0.35em; vertical-align: middle; margin-left: 0.5rem\">DATE</span>\n",
       "</mark>\n",
       " Mr \n",
       "<mark class=\"entity\" style=\"background: #aa9cfc; padding: 0.45em 0.6em; margin: 0 0.25em; line-height: 1; border-radius: 0.35em;\">\n",
       "    Ebbers\n",
       "    <span style=\"font-size: 0.8em; font-weight: bold; line-height: 1; border-radius: 0.35em; vertical-align: middle; margin-left: 0.5rem\">PERSON</span>\n",
       "</mark>\n",
       " denied the allegations. &quot;I wasn't advised by \n",
       "<mark class=\"entity\" style=\"background: #aa9cfc; padding: 0.45em 0.6em; margin: 0 0.25em; line-height: 1; border-radius: 0.35em;\">\n",
       "    Scott Sullivan\n",
       "    <span style=\"font-size: 0.8em; font-weight: bold; line-height: 1; border-radius: 0.35em; vertical-align: middle; margin-left: 0.5rem\">PERSON</span>\n",
       "</mark>\n",
       " of anything ever being wrong,&quot; he told the court. &quot;He's never told me he made an entry that wasn't right. If he had, we wouldn't be here \n",
       "<mark class=\"entity\" style=\"background: #bfe1d9; padding: 0.45em 0.6em; margin: 0 0.25em; line-height: 1; border-radius: 0.35em;\">\n",
       "    today\n",
       "    <span style=\"font-size: 0.8em; font-weight: bold; line-height: 1; border-radius: 0.35em; vertical-align: middle; margin-left: 0.5rem\">DATE</span>\n",
       "</mark>\n",
       ".&quot; Mr \n",
       "<mark class=\"entity\" style=\"background: #aa9cfc; padding: 0.45em 0.6em; margin: 0 0.25em; line-height: 1; border-radius: 0.35em;\">\n",
       "    Ebbers\n",
       "    <span style=\"font-size: 0.8em; font-weight: bold; line-height: 1; border-radius: 0.35em; vertical-align: middle; margin-left: 0.5rem\">PERSON</span>\n",
       "</mark>\n",
       " could face a jail sentence of \n",
       "<mark class=\"entity\" style=\"background: #bfe1d9; padding: 0.45em 0.6em; margin: 0 0.25em; line-height: 1; border-radius: 0.35em;\">\n",
       "    up to 85 years\n",
       "    <span style=\"font-size: 0.8em; font-weight: bold; line-height: 1; border-radius: 0.35em; vertical-align: middle; margin-left: 0.5rem\">DATE</span>\n",
       "</mark>\n",
       " if convicted of all the charges he is facing. Shareholders lost \n",
       "<mark class=\"entity\" style=\"background: #e4e7d2; padding: 0.45em 0.6em; margin: 0 0.25em; line-height: 1; border-radius: 0.35em;\">\n",
       "    about $180bn\n",
       "    <span style=\"font-size: 0.8em; font-weight: bold; line-height: 1; border-radius: 0.35em; vertical-align: middle; margin-left: 0.5rem\">MONEY</span>\n",
       "</mark>\n",
       " in \n",
       "<mark class=\"entity\" style=\"background: #7aecec; padding: 0.45em 0.6em; margin: 0 0.25em; line-height: 1; border-radius: 0.35em;\">\n",
       "    WorldCom\n",
       "    <span style=\"font-size: 0.8em; font-weight: bold; line-height: 1; border-radius: 0.35em; vertical-align: middle; margin-left: 0.5rem\">ORG</span>\n",
       "</mark>\n",
       "'s collapse, \n",
       "<mark class=\"entity\" style=\"background: #e4e7d2; padding: 0.45em 0.6em; margin: 0 0.25em; line-height: 1; border-radius: 0.35em;\">\n",
       "    20,000\n",
       "    <span style=\"font-size: 0.8em; font-weight: bold; line-height: 1; border-radius: 0.35em; vertical-align: middle; margin-left: 0.5rem\">CARDINAL</span>\n",
       "</mark>\n",
       " workers lost their jobs and the company went bankrupt. The company emerged from bankruptcy \n",
       "<mark class=\"entity\" style=\"background: #bfe1d9; padding: 0.45em 0.6em; margin: 0 0.25em; line-height: 1; border-radius: 0.35em;\">\n",
       "    last year\n",
       "    <span style=\"font-size: 0.8em; font-weight: bold; line-height: 1; border-radius: 0.35em; vertical-align: middle; margin-left: 0.5rem\">DATE</span>\n",
       "</mark>\n",
       " and is now known as \n",
       "<mark class=\"entity\" style=\"background: #7aecec; padding: 0.45em 0.6em; margin: 0 0.25em; line-height: 1; border-radius: 0.35em;\">\n",
       "    MCI\n",
       "    <span style=\"font-size: 0.8em; font-weight: bold; line-height: 1; border-radius: 0.35em; vertical-align: middle; margin-left: 0.5rem\">ORG</span>\n",
       "</mark>\n",
       ". </div>\n",
       "</figure>\n",
       "</body>\n",
       "</html></span>"
      ],
      "text/plain": [
       "<IPython.core.display.HTML object>"
      ]
     },
     "metadata": {},
     "output_type": "display_data"
    },
    {
     "name": "stdout",
     "output_type": "stream",
     "text": [
      "\n",
      "Using the 'ent' visualizer\n",
      "Serving on http://0.0.0.0:5000 ...\n",
      "\n",
      "Shutting down server on port 5000.\n"
     ]
    }
   ],
   "source": [
    "displacy.serve(doc, style=\"ent\")"
   ]
  },
  {
   "cell_type": "code",
   "execution_count": 12,
   "id": "8210287d",
   "metadata": {},
   "outputs": [
    {
     "data": {
      "text/plain": [
       "'Countries, cities, states'"
      ]
     },
     "execution_count": 12,
     "metadata": {},
     "output_type": "execute_result"
    }
   ],
   "source": [
    "spacy.explain(\"GPE\")"
   ]
  },
  {
   "cell_type": "markdown",
   "id": "a05deb7c",
   "metadata": {},
   "source": [
    "# Now we use a Bert model from HF, fine-tuned for financial domain\n",
    "https://huggingface.co/ProsusAI/finbert"
   ]
  },
  {
   "cell_type": "code",
   "execution_count": 13,
   "id": "43026323",
   "metadata": {},
   "outputs": [],
   "source": [
    "from transformers import AutoTokenizer, AutoModelForSequenceClassification, pipeline\n",
    "\n",
    "tokenizer = AutoTokenizer.from_pretrained(\"ProsusAI/finbert\")\n",
    "model = AutoModelForSequenceClassification.from_pretrained(\"ProsusAI/finbert\")\n",
    "\n",
    "get_sentiment = pipeline(\"sentiment-analysis\", model=model, tokenizer=tokenizer)"
   ]
  },
  {
   "cell_type": "markdown",
   "id": "bd8cf8b4",
   "metadata": {},
   "source": [
    "### I split the article into sentences because I want to compute sentiment for each of them"
   ]
  },
  {
   "cell_type": "code",
   "execution_count": 14,
   "id": "2b5260a8",
   "metadata": {
    "scrolled": false
   },
   "outputs": [
    {
     "data": {
      "text/plain": [
       "[' Former WorldCom chief Bernie Ebbers has denied claims that he knew accountants were doctoring the books at the firm',\n",
       " '  Speaking in court, Mr Ebbers rejected allegations he pressured ex-chief financial officer Scott Sullivan to falsify company financial statements',\n",
       " ' Mr Sullivan \"made accounting decisions,\" he told the federal court, saying his finance chief had \"a keen command of the numbers\"',\n",
       " ' Mr Ebbers has denied charges of fraud and conspiracy',\n",
       " ' During his second day of questioning in the New York trial Mr Ebbers played down his working relationship with Mr Sullivan and denied he frequently met him to discuss company business when questioned by the prosecution',\n",
       " '  \"In a lot of weeks, we would speak ',\n",
       " ' three or four times,\" Mr Ebbers said, adding that conversations about finances were rarely one-on-one and were usually discussed by a \"group of people\" instead',\n",
       " '  Mr Ebbers relationship to Mr Sullivan is key to the case surrounding financial corruption that led to the collapse of the firm in 2002 following the discovery of an $11bn accounting fraud',\n",
       " \" The prosecution's star witness is Mr Sullivan, one of six WorldCom executives indicted in the case, He has pleaded guilty to fraud and appeared as a prosecution witness as part of an agreement with prosecutors\",\n",
       " \" During his time on the witness stand Mr Sullivan repeatedly told jurors he met frequently with Mr Ebbers, told him about changes made to WorldCom's accounts to hide costs and had warned him such practises were improper\",\n",
       " ' However during the case on Tuesday Mr Ebbers denied the allegations',\n",
       " ' \"I wasn\\'t advised by Scott Sullivan of anything ever being wrong,\" he told the court',\n",
       " ' \"He\\'s never told me he made an entry that wasn\\'t right',\n",
       " \" If he had, we wouldn't be here today\",\n",
       " '\" Mr Ebbers could face a jail sentence of up to 85 years if convicted of all the charges he is facing',\n",
       " \" Shareholders lost about $180bn in WorldCom's collapse, 20,000 workers lost their jobs and the company went bankrupt\",\n",
       " ' The company emerged from bankruptcy last year and is now known as MCI']"
      ]
     },
     "execution_count": 14,
     "metadata": {},
     "output_type": "execute_result"
    }
   ],
   "source": [
    "import re\n",
    "\n",
    "def sentence_tokenizer(document):\n",
    "    sentences = re.split(r';|(?!\\d)\\.(?!\\d)', document)\n",
    "    sentences = [i for i in sentences if not re.search(r'^\\s*\\n?$', i)]\n",
    "    return sentences\n",
    "\n",
    "sentence_tokenizer(business.content[99])"
   ]
  },
  {
   "cell_type": "markdown",
   "id": "6c16536f",
   "metadata": {},
   "source": [
    "### Let's test the sentiment model!"
   ]
  },
  {
   "cell_type": "code",
   "execution_count": 19,
   "id": "9f650e94",
   "metadata": {},
   "outputs": [
    {
     "data": {
      "text/plain": [
       "'  Speaking in court, Mr Ebbers rejected allegations he pressured ex-chief financial officer Scott Sullivan to falsify company financial statements'"
      ]
     },
     "execution_count": 19,
     "metadata": {},
     "output_type": "execute_result"
    }
   ],
   "source": [
    "test_sentence = sentence_tokenizer(business.content[99])[1]\n",
    "test_sentence"
   ]
  },
  {
   "cell_type": "code",
   "execution_count": 20,
   "id": "374eae2e",
   "metadata": {},
   "outputs": [
    {
     "data": {
      "text/plain": [
       "[{'label': 'negative', 'score': 0.6086190938949585}]"
      ]
     },
     "execution_count": 20,
     "metadata": {},
     "output_type": "execute_result"
    }
   ],
   "source": [
    "get_sentiment(test_sentence)"
   ]
  },
  {
   "cell_type": "markdown",
   "id": "3789617f",
   "metadata": {},
   "source": [
    "## Now we compute NER and sentiment for all articles"
   ]
  },
  {
   "cell_type": "code",
   "execution_count": null,
   "id": "4eecb1b6",
   "metadata": {
    "scrolled": true
   },
   "outputs": [],
   "source": [
    "results = []\n",
    "c = 1\n",
    "\n",
    "for article in business.content:\n",
    "    \n",
    "    start = 0\n",
    "    print(c)\n",
    "    c += 1\n",
    "    \n",
    "    doc = nlp(article)\n",
    "    \n",
    "    sent_tokenized_article = sentence_tokenizer(article)\n",
    "    \n",
    "    for sentence in sent_tokenized_article:\n",
    "        \n",
    "        sentiment = get_sentiment(sentence)[0]\n",
    "        sentiment[\"sentence\"] = sentence\n",
    "        sentiment[\"entities\"] = []\n",
    "        \n",
    "        sentence_span =  (start, len(sentence)+start)\n",
    "        start +=  len(sentence)\n",
    "        \n",
    "        for ent in doc.ents:\n",
    "        \n",
    "            if ent.start_char >= sentence_span[0] and ent.end_char <= sentence_span[1]:\n",
    "                \n",
    "                sentiment[\"entities\"].append((ent.label_, ent.text))\n",
    "            \n",
    "    \n",
    "        results.append(sentiment)"
   ]
  },
  {
   "cell_type": "raw",
   "id": "bc25f2cf",
   "metadata": {},
   "source": [
    "The cell above takes around 5 minutes to execute..  We've previously run and saved the results, with this snippet:\n",
    "\n",
    "import pickle\n",
    "\n",
    "with open(\"results2.pkl\", 'wb') as f:\n",
    "    pickle.dump(results, f)\n",
    "    \n",
    "\n",
    "So, now I can just import the file as a Python object (pickle) "
   ]
  },
  {
   "cell_type": "code",
   "execution_count": 21,
   "id": "580c0116",
   "metadata": {},
   "outputs": [],
   "source": [
    "import pickle\n",
    "\n",
    "pklpath = \"results2.pkl\"\n",
    "\n",
    "with open(pklpath, 'rb') as fin:\n",
    "    results = pickle.load(fin)"
   ]
  },
  {
   "cell_type": "code",
   "execution_count": 22,
   "id": "3deb7f76",
   "metadata": {},
   "outputs": [
    {
     "data": {
      "text/plain": [
       "[{'label': 'positive',\n",
       "  'score': 0.9515852928161621,\n",
       "  'sentence': ' Quarterly profits at US media giant TimeWarner jumped 76% to $1.13bn (£600m) for the three months to December, from $639m year-earlier',\n",
       "  'entities': [('DATE', 'Quarterly'),\n",
       "   ('GPE', 'US'),\n",
       "   ('ORG', 'TimeWarner'),\n",
       "   ('PERCENT', '76%'),\n",
       "   ('MONEY', '$1.13bn (£600'),\n",
       "   ('MONEY', 'm'),\n",
       "   ('DATE', 'the three months to December'),\n",
       "   ('MONEY', '639'),\n",
       "   ('MONEY', 'm'),\n",
       "   ('DATE', 'year-earlier')]},\n",
       " {'label': 'positive',\n",
       "  'score': 0.8928447961807251,\n",
       "  'sentence': '  The firm, which is now one of the biggest investors in Google, benefited from sales of high-speed internet connections and higher advert sales',\n",
       "  'entities': [('CARDINAL', 'one'), ('ORG', 'Google')]}]"
      ]
     },
     "execution_count": 22,
     "metadata": {},
     "output_type": "execute_result"
    }
   ],
   "source": [
    "results[0:2]"
   ]
  },
  {
   "cell_type": "markdown",
   "id": "6355546a",
   "metadata": {},
   "source": [
    "## We change the data structure: we want to aggregate the sentiment per each entity"
   ]
  },
  {
   "cell_type": "code",
   "execution_count": 39,
   "id": "19992d4b",
   "metadata": {
    "scrolled": false
   },
   "outputs": [],
   "source": [
    "from collections import Counter\n",
    "import numpy as np\n",
    "\n",
    "my_entities = ['NORP', 'ORG', 'PERSON', 'GPE']  #'LOC' 'PRODUCT' 'EVENT', 'FAC'\n",
    "ner_filtered = list(set([j for i in results for j in i['entities'] if j[0] in my_entities]))\n",
    "\n",
    "\n",
    "data = {ent:{} for ent in my_entities}\n",
    "\n",
    "\n",
    "for sentence in results:\n",
    "    for ent in sentence[\"entities\"]:\n",
    "        if ent in ner_filtered:\n",
    "            try:\n",
    "                data[ent[0]][ent[1]].append(sentence[\"label\"])\n",
    "            except KeyError:\n",
    "                data[ent[0]][ent[1]] = [sentence[\"label\"]]\n",
    "\n",
    "\n",
    "for ent in data:\n",
    "    for w in data[ent].keys():\n",
    "        data[ent][w] = dict(Counter(data[ent][w]))\n",
    "        \n",
    "        for i in [\"positive\", \"negative\", \"neutral\"]:\n",
    "            if i not in data[ent][w].keys():\n",
    "                data[ent][w].update({i:0})"
   ]
  },
  {
   "cell_type": "code",
   "execution_count": null,
   "id": "497b226e",
   "metadata": {
    "scrolled": true
   },
   "outputs": [],
   "source": [
    "import json\n",
    "print(json.dumps(data[\"GPE\"], indent=4))"
   ]
  },
  {
   "cell_type": "markdown",
   "id": "83594d9a",
   "metadata": {},
   "source": [
    "# Let's represent this information with Pandas and Matplotlib"
   ]
  },
  {
   "cell_type": "code",
   "execution_count": 41,
   "id": "b3eb9eba",
   "metadata": {},
   "outputs": [],
   "source": [
    "import pandas as pd\n",
    "\n",
    "def json2pd(data, n):\n",
    "    \n",
    "    df_list = []\n",
    "    for cat in data.keys():\n",
    "        \n",
    "        df = [[cat, k, v[\"negative\"],v[\"neutral\"], v[\"positive\"], sum(v.values())] for k,v in data[cat].items()]\n",
    "\n",
    "        df = pd.DataFrame(df, columns=[\"category\",\"entity\", \"negative\", \"neutral\", \"positive\", \"total\"])\n",
    "        df_list.append(df.sort_values(\"total\")) #.iloc[:-1]\n",
    "        \n",
    "    return pd.concat(df_list)\n",
    "\n",
    "\n",
    "df = json2pd(data, 0)"
   ]
  },
  {
   "cell_type": "code",
   "execution_count": 42,
   "id": "219fca50",
   "metadata": {},
   "outputs": [
    {
     "data": {
      "text/html": [
       "<div>\n",
       "<style scoped>\n",
       "    .dataframe tbody tr th:only-of-type {\n",
       "        vertical-align: middle;\n",
       "    }\n",
       "\n",
       "    .dataframe tbody tr th {\n",
       "        vertical-align: top;\n",
       "    }\n",
       "\n",
       "    .dataframe thead th {\n",
       "        text-align: right;\n",
       "    }\n",
       "</style>\n",
       "<table border=\"1\" class=\"dataframe\">\n",
       "  <thead>\n",
       "    <tr style=\"text-align: right;\">\n",
       "      <th></th>\n",
       "      <th>category</th>\n",
       "      <th>entity</th>\n",
       "      <th>negative</th>\n",
       "      <th>neutral</th>\n",
       "      <th>positive</th>\n",
       "      <th>total</th>\n",
       "    </tr>\n",
       "  </thead>\n",
       "  <tbody>\n",
       "    <tr>\n",
       "      <th>121</th>\n",
       "      <td>NORP</td>\n",
       "      <td>Saudi Arabian</td>\n",
       "      <td>0</td>\n",
       "      <td>1</td>\n",
       "      <td>0</td>\n",
       "      <td>1</td>\n",
       "    </tr>\n",
       "    <tr>\n",
       "      <th>92</th>\n",
       "      <td>NORP</td>\n",
       "      <td>the Sans bushmen</td>\n",
       "      <td>0</td>\n",
       "      <td>1</td>\n",
       "      <td>0</td>\n",
       "      <td>1</td>\n",
       "    </tr>\n",
       "    <tr>\n",
       "      <th>61</th>\n",
       "      <td>NORP</td>\n",
       "      <td>Communists</td>\n",
       "      <td>1</td>\n",
       "      <td>0</td>\n",
       "      <td>0</td>\n",
       "      <td>1</td>\n",
       "    </tr>\n",
       "  </tbody>\n",
       "</table>\n",
       "</div>"
      ],
      "text/plain": [
       "    category            entity  negative  neutral  positive  total\n",
       "121     NORP     Saudi Arabian         0        1         0      1\n",
       "92      NORP  the Sans bushmen         0        1         0      1\n",
       "61      NORP        Communists         1        0         0      1"
      ]
     },
     "execution_count": 42,
     "metadata": {},
     "output_type": "execute_result"
    }
   ],
   "source": [
    "df.head(3)"
   ]
  },
  {
   "cell_type": "code",
   "execution_count": 44,
   "id": "12230bab",
   "metadata": {},
   "outputs": [
    {
     "data": {
      "image/png": "[encoded data removed]",
      "text/plain": [
       "<Figure size 600x800 with 1 Axes>"
      ]
     },
     "metadata": {},
     "output_type": "display_data"
    }
   ],
   "source": [
    "subdf = df[df[\"positive\"] + df['negative'] + df['neutral'] > 20]\n",
    "\n",
    "subdf = subdf[subdf.category=='GPE'].drop('total', axis=1)\n",
    "\n",
    "ax = subdf.plot.barh(x=\"entity\", stacked=True, figsize=(6, 8), color=[\"red\", \"orange\", \"green\"])"
   ]
  },
  {
   "cell_type": "markdown",
   "id": "99c665fb",
   "metadata": {},
   "source": [
    "# Let's make a BI Dashboard with Holoviz"
   ]
  },
  {
   "cell_type": "code",
   "execution_count": null,
   "id": "cdde1cc8",
   "metadata": {},
   "outputs": [],
   "source": [
    "import hvplot.pandas\n",
    "import holoviews as hv\n",
    "import panel as pn\n",
    "\n",
    "hv.extension('bokeh')\n",
    "pn.extension('tabulator', sizing_mode=\"stretch_width\")\n",
    "\n",
    "idf = df.interactive()"
   ]
  },
  {
   "cell_type": "code",
   "execution_count": null,
   "id": "d577f4d3",
   "metadata": {
    "scrolled": true
   },
   "outputs": [],
   "source": [
    "minimum_occur = pn.widgets.IntSlider(name='occurrencies', start=0, end=50, step=5)\n",
    "\n",
    "\n",
    "category = pn.widgets.ToggleGroup(\n",
    "    name='category',\n",
    "    options=my_entities, \n",
    "    value=my_entities,\n",
    "    button_type='success')\n",
    "\n",
    "\n",
    "yaxis = pn.widgets.RadioButtonGroup(\n",
    "    name='Y axis', \n",
    "    options=['total', 'positive', 'negative', 'neutral'],\n",
    "    button_type='success'\n",
    ")\n",
    "\n",
    "\n",
    "ipipeline = (\n",
    "    idf[(idf.total >= minimum_occur) &\n",
    "             (idf.category.isin(category))]\n",
    "    .groupby(['entity'])\n",
    "    .mean()\n",
    "    .sort_values('total', ascending=False)\n",
    "    .reset_index()\n",
    "    .reset_index(drop=True)\n",
    ")\n",
    "\n",
    "\n",
    "itable = ipipeline.pipe(pn.widgets.Tabulator, pagination='remote', page_size=10)\n",
    "ihvplot = ipipeline.head(25).hvplot(x='entity', y=yaxis, line_width=6, height=400, kind='bar')\n",
    "\n",
    "template = pn.template.FastListTemplate(\n",
    "    title='Interactive DataFrame Dashboards with hvplot .interactive', \n",
    "    sidebar=[minimum_occur, 'Manufacturers', category, 'Y axis' , yaxis],\n",
    "    main=[ihvplot.panel(), itable.panel()],\n",
    "    accent_base_color=\"#88d8b0\",\n",
    "    header_background=\"#88d8b0\",\n",
    ")\n",
    "\n",
    "template.show()\n",
    "template.servable();"
   ]
  }
 ],
 "metadata": {
  "kernelspec": {
   "display_name": "test",
   "language": "python",
   "name": "test"
  },
  "language_info": {
   "codemirror_mode": {
    "name": "ipython",
    "version": 3
   },
   "file_extension": ".py",
   "mimetype": "text/x-python",
   "name": "python",
   "nbconvert_exporter": "python",
   "pygments_lexer": "ipython3",
   "version": "3.10.8"
  }
 },
 "nbformat": 4,
 "nbformat_minor": 5
}
